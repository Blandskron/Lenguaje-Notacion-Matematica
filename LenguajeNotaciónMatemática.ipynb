{
  "nbformat": 4,
  "nbformat_minor": 0,
  "metadata": {
    "colab": {
      "provenance": [],
      "authorship_tag": "ABX9TyMRjiM0sJKJTH8vcPQOS7P2",
      "include_colab_link": true
    },
    "kernelspec": {
      "name": "python3",
      "display_name": "Python 3"
    },
    "language_info": {
      "name": "python"
    }
  },
  "cells": [
    {
      "cell_type": "markdown",
      "metadata": {
        "id": "view-in-github",
        "colab_type": "text"
      },
      "source": [
        "<a href=\"https://colab.research.google.com/github/Blandskron/Lenguaje-Notacion-Matematica/blob/main/LenguajeNotaci%C3%B3nMatem%C3%A1tica.ipynb\" target=\"_parent\"><img src=\"https://colab.research.google.com/assets/colab-badge.svg\" alt=\"Open In Colab\"/></a>"
      ]
    },
    {
      "cell_type": "markdown",
      "source": [
        "### **Lenguaje y Notación Matemática**\n",
        "\n",
        "---\n",
        "\n"
      ],
      "metadata": {
        "id": "GlxyaQSgQOf4"
      }
    },
    {
      "cell_type": "code",
      "source": [
        "import pandas as pd\n",
        "import numpy as np\n",
        "import matplotlib.pyplot as plt\n",
        "import math\n",
        "import sympy as sp"
      ],
      "metadata": {
        "id": "uSXccLWFQ5NP"
      },
      "execution_count": 35,
      "outputs": []
    },
    {
      "cell_type": "markdown",
      "source": [
        "π (Pi): La relación entre la circunferencia de un círculo y su diámetro. Es una constante irracional y trascendental, aproximadamente igual a 3.14159."
      ],
      "metadata": {
        "id": "rs5j3ckPQTBf"
      }
    },
    {
      "cell_type": "code",
      "execution_count": 4,
      "metadata": {
        "colab": {
          "base_uri": "https://localhost:8080/"
        },
        "id": "S9tpWgH7P8RB",
        "outputId": "5e81f330-5638-43da-8cda-b87e41cc782a"
      },
      "outputs": [
        {
          "output_type": "stream",
          "name": "stdout",
          "text": [
            "   Diámetro  Circunferencia\n",
            "0         2         6.28318\n",
            "1         4        12.56636\n",
            "2         6        18.84954\n",
            "3         8        25.13272\n",
            "4        10        31.41590\n"
          ]
        }
      ],
      "source": [
        "# Crear un DataFrame con los diámetros de los círculos\n",
        "diametros = [2, 4, 6, 8, 10]\n",
        "df = pd.DataFrame(diametros, columns=['Diámetro'])\n",
        "\n",
        "# Calcular las circunferencias usando la fórmula C = π * d\n",
        "df['Circunferencia'] = df['Diámetro'] * 3.14159\n",
        "\n",
        "# Mostrar el DataFrame\n",
        "print(df)\n"
      ]
    },
    {
      "cell_type": "markdown",
      "source": [
        "Δ (Delta): La letra delta se utiliza para representar un cambio o diferencia en matemáticas. También puede denotar una cantidad pequeña de cambio en cálculos diferenciales."
      ],
      "metadata": {
        "id": "cJMUEJbNQih_"
      }
    },
    {
      "cell_type": "code",
      "source": [
        "# Crear un DataFrame con algunos valores\n",
        "valores = [10, 15, 20, 25, 30]\n",
        "df = pd.DataFrame(valores, columns=['Valor'])\n",
        "\n",
        "# Calcular las diferencias usando el símbolo Δ (Delta)\n",
        "df['Diferencia'] = df['Valor'].diff()\n",
        "\n",
        "# Mostrar el DataFrame\n",
        "print(df)"
      ],
      "metadata": {
        "colab": {
          "base_uri": "https://localhost:8080/"
        },
        "id": "VL3rDCnvQttQ",
        "outputId": "97cc6876-f3fb-49e0-841b-3927f39b91eb"
      },
      "execution_count": 2,
      "outputs": [
        {
          "output_type": "stream",
          "name": "stdout",
          "text": [
            "   Valor  Diferencia\n",
            "0     10         NaN\n",
            "1     15         5.0\n",
            "2     20         5.0\n",
            "3     25         5.0\n",
            "4     30         5.0\n"
          ]
        }
      ]
    },
    {
      "cell_type": "markdown",
      "source": [
        "∑ (Sigma): Representa una suma en notación matemática. La expresión que sigue al símbolo representa la suma de una secuencia de términos."
      ],
      "metadata": {
        "id": "8VUpECbqQ_sX"
      }
    },
    {
      "cell_type": "code",
      "source": [
        "# Crear un DataFrame con una secuencia de números\n",
        "numeros = [1, 2, 3, 4, 5]\n",
        "df = pd.DataFrame(numeros, columns=['Número'])\n",
        "\n",
        "# Calcular la suma de la secuencia usando el símbolo ∑ (Sigma)\n",
        "suma_total = df['Número'].sum()\n",
        "\n",
        "# Mostrar la suma total\n",
        "print(\"La suma de la secuencia es:\", suma_total)"
      ],
      "metadata": {
        "colab": {
          "base_uri": "https://localhost:8080/"
        },
        "id": "ayCzMZ0FRCe4",
        "outputId": "e46b1c67-4b39-494b-8a44-c7801a3f61c8"
      },
      "execution_count": 5,
      "outputs": [
        {
          "output_type": "stream",
          "name": "stdout",
          "text": [
            "La suma de la secuencia es: 15\n"
          ]
        }
      ]
    },
    {
      "cell_type": "markdown",
      "source": [
        "∫ (Integral): Indica una integral, que es una noción fundamental en cálculo. Representa el área bajo una curva o la acumulación de una función a lo largo de un intervalo."
      ],
      "metadata": {
        "id": "V0k_62UJR_un"
      }
    },
    {
      "cell_type": "code",
      "source": [
        "# Definir una función\n",
        "def funcion(x):\n",
        "    return x**2\n",
        "\n",
        "# Crear un DataFrame con valores de x\n",
        "x_valores = np.linspace(0, 5, 100)  # Valores de x de 0 a 5\n",
        "df = pd.DataFrame(x_valores, columns=['x'])\n",
        "\n",
        "# Calcular los valores de la función y\n",
        "df['y'] = df['x'].apply(funcion)\n",
        "\n",
        "# Visualizar la función y su área bajo la curva\n",
        "plt.plot(df['x'], df['y'], label='$x^2$')\n",
        "plt.fill_between(df['x'], df['y'], alpha=0.2)\n",
        "plt.xlabel('x')\n",
        "plt.ylabel('y')\n",
        "plt.title('Área bajo la curva de $x^2$')\n",
        "plt.legend()\n",
        "plt.show()"
      ],
      "metadata": {
        "colab": {
          "base_uri": "https://localhost:8080/",
          "height": 477
        },
        "id": "TeqG67I_SBMp",
        "outputId": "a40c9ceb-517b-477e-9be1-c6b0dc2d2bde"
      },
      "execution_count": 7,
      "outputs": [
        {
          "output_type": "display_data",
          "data": {
            "text/plain": [
              "<Figure size 640x480 with 1 Axes>"
            ],
            "image/png": "[encoded data removed]"
          },
          "metadata": {}
        }
      ]
    },
    {
      "cell_type": "markdown",
      "source": [
        "≈ (Aproximadamente igual): Se utiliza para indicar que dos cantidades son aproximadamente iguales, pero no necesariamente idénticas."
      ],
      "metadata": {
        "id": "GwxTfqctSXF4"
      }
    },
    {
      "cell_type": "code",
      "source": [
        "# Valores originales\n",
        "valor_real = 3.14159\n",
        "valor_aproximado = 3.14\n",
        "\n",
        "# Crear un DataFrame para comparar los valores\n",
        "data = {'Valor Real': [valor_real], 'Valor Aproximado': [valor_aproximado]}\n",
        "df = pd.DataFrame(data)\n",
        "\n",
        "# Calcular y mostrar la diferencia relativa\n",
        "df['Diferencia Relativa'] = ((df['Valor Real'] - df['Valor Aproximado']) / df['Valor Real']) * 100\n",
        "\n",
        "# Mostrar el DataFrame\n",
        "print(df)"
      ],
      "metadata": {
        "colab": {
          "base_uri": "https://localhost:8080/"
        },
        "id": "TWvG-0aISZXX",
        "outputId": "22387666-26b1-4331-870d-3270e003e031"
      },
      "execution_count": 8,
      "outputs": [
        {
          "output_type": "stream",
          "name": "stdout",
          "text": [
            "   Valor Real  Valor Aproximado  Diferencia Relativa\n",
            "0     3.14159              3.14             0.050611\n"
          ]
        }
      ]
    },
    {
      "cell_type": "markdown",
      "source": [
        "≠ (No igual): Representa que dos cantidades no son iguales."
      ],
      "metadata": {
        "id": "1RLzgHulSoOY"
      }
    },
    {
      "cell_type": "code",
      "source": [
        "# Valores a comparar\n",
        "valor1 = 5\n",
        "valor2 = 7\n",
        "\n",
        "# Crear un DataFrame para mostrar la comparación\n",
        "data = {'Valor 1': [valor1], 'Valor 2': [valor2], 'Son Iguales': [valor1 == valor2]}\n",
        "df = pd.DataFrame(data)\n",
        "\n",
        "# Mostrar el DataFrame\n",
        "print(df)"
      ],
      "metadata": {
        "colab": {
          "base_uri": "https://localhost:8080/"
        },
        "id": "2AQNDayJTDVg",
        "outputId": "6b34ee99-2ed2-4deb-ddcf-e25bbc5a3ccb"
      },
      "execution_count": 10,
      "outputs": [
        {
          "output_type": "stream",
          "name": "stdout",
          "text": [
            "   Valor 1  Valor 2  Son Iguales\n",
            "0        5        7        False\n"
          ]
        }
      ]
    },
    {
      "cell_type": "markdown",
      "source": [
        "≥ (Mayor o igual que): Indica que un número o expresión es mayor o igual que otro número o expresión."
      ],
      "metadata": {
        "id": "Hoe3oX-lTGn4"
      }
    },
    {
      "cell_type": "code",
      "source": [
        "# Valores a comparar\n",
        "valor1 = 10\n",
        "valor2 = 5\n",
        "\n",
        "# Crear un DataFrame para mostrar la comparación\n",
        "data = {'Valor 1': [valor1], 'Valor 2': [valor2], 'Valor1 ≥ Valor2': [valor1 >= valor2]}\n",
        "df = pd.DataFrame(data)\n",
        "\n",
        "# Mostrar el DataFrame\n",
        "print(df)"
      ],
      "metadata": {
        "colab": {
          "base_uri": "https://localhost:8080/"
        },
        "id": "H-kaz5_VTLp_",
        "outputId": "489b3c04-64ce-4749-bd6f-4003cb9e74cd"
      },
      "execution_count": 11,
      "outputs": [
        {
          "output_type": "stream",
          "name": "stdout",
          "text": [
            "   Valor 1  Valor 2  Valor1 ≥ Valor2\n",
            "0       10        5             True\n"
          ]
        }
      ]
    },
    {
      "cell_type": "markdown",
      "source": [
        "≤ (Menor o igual que): Indica que un número o expresión es menor o igual que otro número o expresión."
      ],
      "metadata": {
        "id": "L-VBFjeXTayH"
      }
    },
    {
      "cell_type": "code",
      "source": [
        "# Valores a comparar\n",
        "valor1 = 7\n",
        "valor2 = 10\n",
        "\n",
        "# Crear un DataFrame para mostrar la comparación\n",
        "data = {'Valor 1': [valor1], 'Valor 2': [valor2], 'Valor1 ≤ Valor2': [valor1 <= valor2]}\n",
        "df = pd.DataFrame(data)\n",
        "\n",
        "# Mostrar el DataFrame\n",
        "print(df)"
      ],
      "metadata": {
        "colab": {
          "base_uri": "https://localhost:8080/"
        },
        "id": "l-nzkBioTbvH",
        "outputId": "5e4e5d5b-b2e9-463d-8138-04e702a1538f"
      },
      "execution_count": 12,
      "outputs": [
        {
          "output_type": "stream",
          "name": "stdout",
          "text": [
            "   Valor 1  Valor 2  Valor1 ≤ Valor2\n",
            "0        7       10             True\n"
          ]
        }
      ]
    },
    {
      "cell_type": "markdown",
      "source": [
        "∞ (Infinito): Representa un concepto matemático que indica que algo no tiene límite o es extremadamente grande."
      ],
      "metadata": {
        "id": "yW-KmAzVTrMv"
      }
    },
    {
      "cell_type": "code",
      "source": [
        "# Crear un DataFrame con valores finitos y uno infinito\n",
        "data = {'Valores': [1, 2, 3, np.inf, 5]}\n",
        "df = pd.DataFrame(data)\n",
        "\n",
        "# Filtrar y mostrar solo los valores finitos\n",
        "valores_finitos = df[df['Valores'] != np.inf]\n",
        "\n",
        "# Mostrar el DataFrame con valores finitos\n",
        "print(valores_finitos)"
      ],
      "metadata": {
        "colab": {
          "base_uri": "https://localhost:8080/"
        },
        "id": "XDoGUQl6T1P_",
        "outputId": "ce185190-e65f-4bce-86a2-338edb82cefd"
      },
      "execution_count": 13,
      "outputs": [
        {
          "output_type": "stream",
          "name": "stdout",
          "text": [
            "   Valores\n",
            "0      1.0\n",
            "1      2.0\n",
            "2      3.0\n",
            "4      5.0\n"
          ]
        }
      ]
    },
    {
      "cell_type": "markdown",
      "source": [
        "∠ (Ángulo): Se utiliza para representar un ángulo en geometría. Puede usarse junto a letras para denotar ángulos específicos."
      ],
      "metadata": {
        "id": "TNamlj47UGfA"
      }
    },
    {
      "cell_type": "code",
      "source": [
        "# Crear un DataFrame con ángulos\n",
        "angulos = [30, 45, 60, 90]\n",
        "nombres = ['∠A', '∠B', '∠C', '∠D']\n",
        "df = pd.DataFrame(list(zip(nombres, angulos)), columns=['Ángulo', 'Medida (grados)'])\n",
        "\n",
        "# Mostrar el DataFrame\n",
        "print(df)"
      ],
      "metadata": {
        "colab": {
          "base_uri": "https://localhost:8080/"
        },
        "id": "5Hje952LUHcf",
        "outputId": "2302aa79-d945-486e-bb5b-df8fe2b021b5"
      },
      "execution_count": 14,
      "outputs": [
        {
          "output_type": "stream",
          "name": "stdout",
          "text": [
            "  Ángulo  Medida (grados)\n",
            "0     ∠A               30\n",
            "1     ∠B               45\n",
            "2     ∠C               60\n",
            "3     ∠D               90\n"
          ]
        }
      ]
    },
    {
      "cell_type": "markdown",
      "source": [
        "× (Multiplicación): Representa la operación de multiplicación entre dos cantidades."
      ],
      "metadata": {
        "id": "ClI7Y11YUYsW"
      }
    },
    {
      "cell_type": "code",
      "source": [
        "# Valores a multiplicar\n",
        "valor1 = 5\n",
        "valor2 = 3\n",
        "\n",
        "# Realizar la multiplicación y crear un DataFrame\n",
        "resultado = valor1 * valor2\n",
        "data = {'Valor 1': [valor1], 'Valor 2': [valor2], 'Resultado': [resultado]}\n",
        "df = pd.DataFrame(data)\n",
        "\n",
        "# Mostrar el DataFrame\n",
        "print(df)"
      ],
      "metadata": {
        "colab": {
          "base_uri": "https://localhost:8080/"
        },
        "id": "3JOdIrLbUZvv",
        "outputId": "01f1733b-7cf6-47c1-d70f-90d2372db981"
      },
      "execution_count": 15,
      "outputs": [
        {
          "output_type": "stream",
          "name": "stdout",
          "text": [
            "   Valor 1  Valor 2  Resultado\n",
            "0        5        3         15\n"
          ]
        }
      ]
    },
    {
      "cell_type": "markdown",
      "source": [
        "÷ (División): Indica la operación de división entre dos cantidades."
      ],
      "metadata": {
        "id": "x0xP21FZUgbm"
      }
    },
    {
      "cell_type": "code",
      "source": [
        "# Valores a dividir\n",
        "dividendo = 10\n",
        "divisor = 2\n",
        "\n",
        "# Realizar la división y crear un DataFrame\n",
        "resultado = dividendo / divisor\n",
        "data = {'Dividendo': [dividendo], 'Divisor': [divisor], 'Resultado': [resultado]}\n",
        "df = pd.DataFrame(data)\n",
        "\n",
        "# Mostrar el DataFrame\n",
        "print(df)"
      ],
      "metadata": {
        "colab": {
          "base_uri": "https://localhost:8080/"
        },
        "id": "iEYzMlu5Uhnu",
        "outputId": "d8bebffc-28ca-40ea-b22a-c935b30a09ab"
      },
      "execution_count": 16,
      "outputs": [
        {
          "output_type": "stream",
          "name": "stdout",
          "text": [
            "   Dividendo  Divisor  Resultado\n",
            "0         10        2        5.0\n"
          ]
        }
      ]
    },
    {
      "cell_type": "markdown",
      "source": [
        "√ (Raíz cuadrada): Indica la raíz cuadrada de un número o expresión."
      ],
      "metadata": {
        "id": "H_0V76LaU1eX"
      }
    },
    {
      "cell_type": "code",
      "source": [
        "# Número para calcular la raíz cuadrada\n",
        "numero = 25\n",
        "\n",
        "# Calcular la raíz cuadrada y crear un DataFrame\n",
        "raiz_cuadrada = math.sqrt(numero)\n",
        "data = {'Número': [numero], 'Raíz Cuadrada': [raiz_cuadrada]}\n",
        "df = pd.DataFrame(data)\n",
        "\n",
        "# Mostrar el DataFrame\n",
        "print(df)"
      ],
      "metadata": {
        "colab": {
          "base_uri": "https://localhost:8080/"
        },
        "id": "cfQf9XAoU5Pe",
        "outputId": "d95fcdc1-8162-42f4-f9ec-707d05852e8c"
      },
      "execution_count": 18,
      "outputs": [
        {
          "output_type": "stream",
          "name": "stdout",
          "text": [
            "   Número  Raíz Cuadrada\n",
            "0      25            5.0\n"
          ]
        }
      ]
    },
    {
      "cell_type": "markdown",
      "source": [
        "^ (Exponente): Se utiliza para indicar la potenciación. Por ejemplo, a^b representa \"a elevado a la potencia b\"."
      ],
      "metadata": {
        "id": "h2xnLiUiVKbn"
      }
    },
    {
      "cell_type": "code",
      "source": [
        "# Valores para la potenciación\n",
        "base = 2\n",
        "exponente = 3\n",
        "\n",
        "# Calcular la potenciación y crear un DataFrame\n",
        "resultado = base ** exponente\n",
        "data = {'Base': [base], 'Exponente': [exponente], 'Resultado': [resultado]}\n",
        "df = pd.DataFrame(data)\n",
        "\n",
        "# Mostrar el DataFrame\n",
        "print(df)"
      ],
      "metadata": {
        "colab": {
          "base_uri": "https://localhost:8080/"
        },
        "id": "5pkb-_iCVLXH",
        "outputId": "59debfe7-f664-4fb0-f07d-ef8098d5b6f8"
      },
      "execution_count": 19,
      "outputs": [
        {
          "output_type": "stream",
          "name": "stdout",
          "text": [
            "   Base  Exponente  Resultado\n",
            "0     2          3          8\n"
          ]
        }
      ]
    },
    {
      "cell_type": "markdown",
      "source": [
        "∀ (Para todo): Se utiliza en lógica matemática para denotar que una cierta propiedad es válida para todos los elementos de un conjunto."
      ],
      "metadata": {
        "id": "PdVYMQ2wVYQX"
      }
    },
    {
      "cell_type": "code",
      "source": [
        "# Supongamos que tenemos un conjunto de números\n",
        "numeros = [1, 2, 3, 4, 5]\n",
        "\n",
        "# Verificar si todos los números en el conjunto son mayores que cero\n",
        "todos_mayores_que_cero = all(numero > 0 for numero in numeros)\n",
        "\n",
        "# Mostrar el resultado\n",
        "if todos_mayores_que_cero:\n",
        "    print(\"Para todo número en el conjunto, es mayor que cero.\")\n",
        "else:\n",
        "    print(\"No todos los números en el conjunto son mayores que cero.\")\n"
      ],
      "metadata": {
        "colab": {
          "base_uri": "https://localhost:8080/"
        },
        "id": "Pvfo6X3eVZZP",
        "outputId": "9fa6fd6c-a536-4eaa-f37c-6374a57b352c"
      },
      "execution_count": 20,
      "outputs": [
        {
          "output_type": "stream",
          "name": "stdout",
          "text": [
            "Para todo número en el conjunto, es mayor que cero.\n"
          ]
        }
      ]
    },
    {
      "cell_type": "markdown",
      "source": [
        "∃ (Existe): En lógica matemática, denota la existencia de al menos un elemento que satisface una cierta propiedad."
      ],
      "metadata": {
        "id": "JVN0SHwqV2Un"
      }
    },
    {
      "cell_type": "code",
      "source": [
        "# Supongamos que tenemos un conjunto de números\n",
        "numeros = [1, -2, 3, -4, 5]\n",
        "\n",
        "# Verificar si existe al menos un número negativo en el conjunto\n",
        "existe_negativo = any(numero < 0 for numero in numeros)\n",
        "\n",
        "# Mostrar el resultado\n",
        "if existe_negativo:\n",
        "    print(\"Existe al menos un número negativo en el conjunto.\")\n",
        "else:\n",
        "    print(\"No hay números negativos en el conjunto.\")\n"
      ],
      "metadata": {
        "colab": {
          "base_uri": "https://localhost:8080/"
        },
        "id": "3xW6dazGV3hf",
        "outputId": "9abd5172-9485-4e30-bbb6-fd658b45a871"
      },
      "execution_count": 21,
      "outputs": [
        {
          "output_type": "stream",
          "name": "stdout",
          "text": [
            "Existe al menos un número negativo en el conjunto.\n"
          ]
        }
      ]
    },
    {
      "cell_type": "markdown",
      "source": [
        "→ (Implicación): Representa una implicación lógica. Si p implica q, se suele escribir como p → q."
      ],
      "metadata": {
        "id": "G44XcNDyWCNf"
      }
    },
    {
      "cell_type": "code",
      "source": [
        "# Supongamos que tenemos dos afirmaciones p y q\n",
        "p = True\n",
        "q = False\n",
        "\n",
        "# Verificar si p implica q\n",
        "implicacion = (not p) or q\n",
        "\n",
        "# Mostrar el resultado\n",
        "if implicacion:\n",
        "    print(\"La implicación p → q es verdadera.\")\n",
        "else:\n",
        "    print(\"La implicación p → q es falsa.\")\n"
      ],
      "metadata": {
        "colab": {
          "base_uri": "https://localhost:8080/"
        },
        "id": "wpNtNmNUWGze",
        "outputId": "e1c80f60-cda0-47f8-cc5c-5d0a014c530b"
      },
      "execution_count": 22,
      "outputs": [
        {
          "output_type": "stream",
          "name": "stdout",
          "text": [
            "La implicación p → q es falsa.\n"
          ]
        }
      ]
    },
    {
      "cell_type": "markdown",
      "source": [
        "∝ (Proporcionalidad): Indica proporcionalidad entre dos cantidades. Si a está relacionado con b como a∝b, significa que a y b son proporcionalmente relacionados."
      ],
      "metadata": {
        "id": "iVc9iyZKWb3X"
      }
    },
    {
      "cell_type": "code",
      "source": [
        "# Supongamos que tenemos dos listas de valores a y b\n",
        "valores_a = [1, 2, 3, 4, 5]\n",
        "valores_b = [2, 4, 6, 8, 10]\n",
        "\n",
        "# Verificar si los valores de a están proporcionalmente relacionados con los valores de b\n",
        "es_proporcional = all(a * 2 == b for a, b in zip(valores_a, valores_b))\n",
        "\n",
        "# Mostrar el resultado\n",
        "if es_proporcional:\n",
        "    print(\"Los valores de a están proporcionalmente relacionados con los valores de b.\")\n",
        "else:\n",
        "    print(\"Los valores de a no están proporcionalmente relacionados con los valores de b.\")\n"
      ],
      "metadata": {
        "colab": {
          "base_uri": "https://localhost:8080/"
        },
        "id": "xNenQs-PWc1P",
        "outputId": "7167d47e-ec8d-40f4-e544-a9edd05f7aee"
      },
      "execution_count": 23,
      "outputs": [
        {
          "output_type": "stream",
          "name": "stdout",
          "text": [
            "Los valores de a están proporcionalmente relacionados con los valores de b.\n"
          ]
        }
      ]
    },
    {
      "cell_type": "markdown",
      "source": [
        "| | (Valor absoluto): Representa el valor numérico sin considerar el signo."
      ],
      "metadata": {
        "id": "cgSn-LdMWuze"
      }
    },
    {
      "cell_type": "code",
      "source": [
        "# Valor numérico\n",
        "numero = -5\n",
        "\n",
        "# Calcular el valor absoluto\n",
        "valor_absoluto = abs(numero)\n",
        "\n",
        "# Mostrar el valor absoluto\n",
        "print(\"El valor absoluto de\", numero, \"es\", valor_absoluto)\n"
      ],
      "metadata": {
        "colab": {
          "base_uri": "https://localhost:8080/"
        },
        "id": "IE7uUXb6Wv9m",
        "outputId": "a9bcc97a-cf8d-4dbe-c475-1bd135efcd0b"
      },
      "execution_count": 24,
      "outputs": [
        {
          "output_type": "stream",
          "name": "stdout",
          "text": [
            "El valor absoluto de -5 es 5\n"
          ]
        }
      ]
    },
    {
      "cell_type": "markdown",
      "source": [
        "∅ (Conjunto vacío): Denota un conjunto que no contiene ningún elemento."
      ],
      "metadata": {
        "id": "ryuJpMgkW8ZX"
      }
    },
    {
      "cell_type": "code",
      "source": [
        "# Crear un DataFrame vacío\n",
        "df = pd.DataFrame(columns=['Elemento'])\n",
        "\n",
        "# Mostrar el DataFrame (conjunto vacío)\n",
        "print(\"Conjunto vacío:\")\n",
        "print(df)"
      ],
      "metadata": {
        "colab": {
          "base_uri": "https://localhost:8080/"
        },
        "id": "sWre7FDxW_X-",
        "outputId": "4b6a9497-c625-4f7b-c44f-d50b101c0491"
      },
      "execution_count": 25,
      "outputs": [
        {
          "output_type": "stream",
          "name": "stdout",
          "text": [
            "Conjunto vacío:\n",
            "Empty DataFrame\n",
            "Columns: [Elemento]\n",
            "Index: []\n"
          ]
        }
      ]
    },
    {
      "cell_type": "markdown",
      "source": [
        "∩ (Intersección): Indica la intersección de dos conjuntos, es decir, los elementos que pertenecen a ambos conjuntos."
      ],
      "metadata": {
        "id": "Kn0d-J39XNrG"
      }
    },
    {
      "cell_type": "code",
      "source": [
        "# Crear dos conjuntos (listas)\n",
        "conjunto1 = [1, 2, 3, 4, 5]\n",
        "conjunto2 = [3, 4, 5, 6, 7]\n",
        "\n",
        "# Calcular la intersección de los conjuntos y crear un DataFrame\n",
        "interseccion = list(set(conjunto1) & set(conjunto2))\n",
        "df = pd.DataFrame({'Elemento': interseccion})\n",
        "\n",
        "# Mostrar el DataFrame\n",
        "print(df)"
      ],
      "metadata": {
        "colab": {
          "base_uri": "https://localhost:8080/"
        },
        "id": "nG0nanB4XOwW",
        "outputId": "43ab0fda-919c-4eac-9bcc-6b199a2f4f70"
      },
      "execution_count": 28,
      "outputs": [
        {
          "output_type": "stream",
          "name": "stdout",
          "text": [
            "   Elemento\n",
            "0         3\n",
            "1         4\n",
            "2         5\n"
          ]
        }
      ]
    },
    {
      "cell_type": "markdown",
      "source": [
        "∪ (Unión): Representa la unión de dos conjuntos, es decir, todos los elementos que pertenecen a al menos uno de los conjuntos."
      ],
      "metadata": {
        "id": "f5QTwZBLXvV3"
      }
    },
    {
      "cell_type": "code",
      "source": [
        "# Crear dos conjuntos (listas)\n",
        "conjunto1 = [1, 2, 3, 4, 5]\n",
        "conjunto2 = [3, 4, 5, 6, 7]\n",
        "\n",
        "# Calcular la unión de los conjuntos y crear un DataFrame\n",
        "union = list(set(conjunto1) | set(conjunto2))\n",
        "df = pd.DataFrame({'Unión': union})\n",
        "\n",
        "# Mostrar el DataFrame\n",
        "print(df)"
      ],
      "metadata": {
        "colab": {
          "base_uri": "https://localhost:8080/"
        },
        "id": "7dT9TkIcXwUW",
        "outputId": "e6a093f1-49be-44ee-cc60-61686e921a7c"
      },
      "execution_count": 30,
      "outputs": [
        {
          "output_type": "stream",
          "name": "stdout",
          "text": [
            "   Unión\n",
            "0      1\n",
            "1      2\n",
            "2      3\n",
            "3      4\n",
            "4      5\n",
            "5      6\n",
            "6      7\n"
          ]
        }
      ]
    },
    {
      "cell_type": "markdown",
      "source": [
        "⊆ (Subconjunto o igual): Indica que un conjunto es subconjunto de otro o es igual a él."
      ],
      "metadata": {
        "id": "HXs5kwaDYA0-"
      }
    },
    {
      "cell_type": "code",
      "source": [
        "# Definir conjuntos\n",
        "conjunto1 = {1, 2, 3}\n",
        "conjunto2 = {1, 2, 3, 4, 5}\n",
        "conjunto3 = {1, 2, 3}\n",
        "\n",
        "# Verificar subconjunto o igualdad y crear un DataFrame\n",
        "es_subconjunto1 = conjunto1.issubset(conjunto2)\n",
        "es_igual1 = conjunto1 == conjunto3\n",
        "\n",
        "es_subconjunto2 = conjunto2.issubset(conjunto1)\n",
        "es_igual2 = conjunto2 == conjunto3\n",
        "\n",
        "data = {'Conjunto 1 ⊆ Conjunto 2': [es_subconjunto1], 'Conjunto 1 = Conjunto 3': [es_igual1],\n",
        "        'Conjunto 2 ⊆ Conjunto 1': [es_subconjunto2], 'Conjunto 2 = Conjunto 3': [es_igual2]}\n",
        "df = pd.DataFrame(data)\n",
        "\n",
        "# Mostrar el DataFrame\n",
        "print(df)"
      ],
      "metadata": {
        "colab": {
          "base_uri": "https://localhost:8080/"
        },
        "id": "DROVqhGpYBwW",
        "outputId": "96ee66ae-b08c-4a92-e5b3-e1dbec85bbee"
      },
      "execution_count": 31,
      "outputs": [
        {
          "output_type": "stream",
          "name": "stdout",
          "text": [
            "   Conjunto 1 ⊆ Conjunto 2  Conjunto 1 = Conjunto 3  Conjunto 2 ⊆ Conjunto 1  \\\n",
            "0                     True                     True                    False   \n",
            "\n",
            "   Conjunto 2 = Conjunto 3  \n",
            "0                    False  \n"
          ]
        }
      ]
    },
    {
      "cell_type": "markdown",
      "source": [
        "⊂ (Subconjunto estricto): Representa que un conjunto es un subconjunto propio de otro conjunto, es decir, no es igual al conjunto completo."
      ],
      "metadata": {
        "id": "3ihCK1LKYRTl"
      }
    },
    {
      "cell_type": "code",
      "source": [
        "# Definir conjuntos\n",
        "conjunto1 = {1, 2}\n",
        "conjunto2 = {1, 2, 3, 4, 5}\n",
        "\n",
        "# Verificar subconjunto estricto y crear un DataFrame\n",
        "es_subconjunto_estricto = conjunto1.issubset(conjunto2) and conjunto1 != conjunto2\n",
        "\n",
        "data = {'Conjunto 1 ⊂ Conjunto 2': [es_subconjunto_estricto]}\n",
        "df = pd.DataFrame(data)\n",
        "\n",
        "# Mostrar el DataFrame\n",
        "print(df)"
      ],
      "metadata": {
        "colab": {
          "base_uri": "https://localhost:8080/"
        },
        "id": "O7ZYtkQJYSJd",
        "outputId": "7df1a2d5-1c9b-4949-c9bb-f7b90d67831c"
      },
      "execution_count": 32,
      "outputs": [
        {
          "output_type": "stream",
          "name": "stdout",
          "text": [
            "   Conjunto 1 ⊂ Conjunto 2\n",
            "0                     True\n"
          ]
        }
      ]
    },
    {
      "cell_type": "markdown",
      "source": [
        "∴ (Por lo tanto): Se utiliza para indicar una conclusión lógica en argumentos o demostraciones."
      ],
      "metadata": {
        "id": "-0k5NvlHYfKt"
      }
    },
    {
      "cell_type": "code",
      "source": [
        "# Supongamos que tenemos una afirmación p verdadera\n",
        "p = True\n",
        "\n",
        "# Luego realizamos algunas operaciones o análisis lógico\n",
        "# ...\n",
        "\n",
        "# Y llegamos a una conclusión basada en la afirmación y el análisis\n",
        "conclusion = \"q\" if p else \"no q\"\n",
        "\n",
        "# Imprimir la conclusión\n",
        "print(\"Por lo tanto,\", conclusion)\n"
      ],
      "metadata": {
        "colab": {
          "base_uri": "https://localhost:8080/"
        },
        "id": "Pdjx8TufYgHu",
        "outputId": "a7a07cad-e476-4bc9-a731-91227b0f38ed"
      },
      "execution_count": 33,
      "outputs": [
        {
          "output_type": "stream",
          "name": "stdout",
          "text": [
            "Por lo tanto, q\n"
          ]
        }
      ]
    },
    {
      "cell_type": "markdown",
      "source": [
        "∇ (Nabla): Representa el operador nabla, que se usa en cálculo vectorial para denotar el gradiente, la divergencia y el rotacional."
      ],
      "metadata": {
        "id": "lmECBIsoYvI2"
      }
    },
    {
      "cell_type": "code",
      "source": [
        "# Definir variables simbólicas\n",
        "x, y, z = sp.symbols('x y z')\n",
        "\n",
        "# Definir un campo vectorial en términos de las variables simbólicas\n",
        "campo_vectorial = sp.Matrix([x**2, y**2, z**2])\n",
        "\n",
        "# Calcular el gradiente utilizando el operador nabla (gradiente)\n",
        "gradiente = sp.Matrix([sp.diff(componente, var) for componente, var in zip(campo_vectorial, [x, y, z])])\n",
        "\n",
        "# Calcular la divergencia utilizando el operador nabla (divergencia)\n",
        "divergencia = sum(sp.diff(componente, var) for componente, var in zip(campo_vectorial, [x, y, z]))\n",
        "\n",
        "# Calcular el rotacional utilizando el operador nabla (rotacional)\n",
        "rotacional = sp.Matrix([\n",
        "    sp.diff(campo_vectorial[(i + 1) % 3], [x, y, z][(i + 2) % 3]) -\n",
        "    sp.diff(campo_vectorial[(i + 2) % 3], [x, y, z][(i + 1) % 3])\n",
        "    for i in range(3)\n",
        "])\n",
        "\n",
        "# Mostrar los resultados\n",
        "print(\"Campo vectorial:\", campo_vectorial)\n",
        "print(\"\\nGradiente:\", gradiente)\n",
        "print(\"\\nDivergencia:\", divergencia)\n",
        "print(\"\\nRotacional:\", rotacional)"
      ],
      "metadata": {
        "colab": {
          "base_uri": "https://localhost:8080/"
        },
        "id": "H3dOIuLDYzwO",
        "outputId": "28bd0a77-c896-4e5b-ce13-f6271a6601b5"
      },
      "execution_count": 36,
      "outputs": [
        {
          "output_type": "stream",
          "name": "stdout",
          "text": [
            "Campo vectorial: Matrix([[x**2], [y**2], [z**2]])\n",
            "\n",
            "Gradiente: Matrix([[2*x], [2*y], [2*z]])\n",
            "\n",
            "Divergencia: 2*x + 2*y + 2*z\n",
            "\n",
            "Rotacional: Matrix([[0], [0], [0]])\n"
          ]
        }
      ]
    },
    {
      "cell_type": "markdown",
      "source": [
        "≡ (Congruencia): Indica congruencia o equivalencia en módulo, comúnmente usada en teoría de números."
      ],
      "metadata": {
        "id": "I06kRDiGZVG1"
      }
    },
    {
      "cell_type": "code",
      "source": [
        "# Supongamos que queremos verificar si dos números son congruentes módulo n\n",
        "n = 7\n",
        "numero1 = 25\n",
        "numero2 = 11\n",
        "\n",
        "# Verificar la congruencia módulo n\n",
        "congruente = numero1 % n == numero2 % n\n",
        "\n",
        "# Mostrar el resultado\n",
        "if congruente:\n",
        "    print(f\"{numero1} y {numero2} son congruentes módulo {n}\")\n",
        "else:\n",
        "    print(f\"{numero1} y {numero2} no son congruentes módulo {n}\")\n"
      ],
      "metadata": {
        "colab": {
          "base_uri": "https://localhost:8080/"
        },
        "id": "OTVIw4q6ZWVN",
        "outputId": "ea7ee611-9ea8-43bd-de22-a4f5f0eedc22"
      },
      "execution_count": 41,
      "outputs": [
        {
          "output_type": "stream",
          "name": "stdout",
          "text": [
            "25 y 11 son congruentes módulo 7\n"
          ]
        }
      ]
    },
    {
      "cell_type": "markdown",
      "source": [
        "∋ (Contiene como miembro): Denota que un conjunto contiene un elemento específico."
      ],
      "metadata": {
        "id": "h2-MCXbaZ2cW"
      }
    },
    {
      "cell_type": "code",
      "source": [
        "# Definir un conjunto y un elemento\n",
        "conjunto = {1, 2, 3, 4, 5}\n",
        "elemento = 3\n",
        "\n",
        "# Verificar si el conjunto contiene el elemento\n",
        "contiene_elemento = elemento in conjunto\n",
        "\n",
        "# Crear un DataFrame para mostrar el resultado\n",
        "data = {'Conjunto': [conjunto], 'Elemento': [elemento], 'Contiene Elemento': [contiene_elemento]}\n",
        "df = pd.DataFrame(data)\n",
        "\n",
        "# Mostrar el DataFrame\n",
        "print(df)"
      ],
      "metadata": {
        "colab": {
          "base_uri": "https://localhost:8080/"
        },
        "id": "E7j1Xa2qZ3Wu",
        "outputId": "6b56b64e-5e0a-4e30-9c36-1f43f1c77d31"
      },
      "execution_count": 42,
      "outputs": [
        {
          "output_type": "stream",
          "name": "stdout",
          "text": [
            "          Conjunto  Elemento  Contiene Elemento\n",
            "0  {1, 2, 3, 4, 5}         3               True\n"
          ]
        }
      ]
    },
    {
      "cell_type": "markdown",
      "source": [
        "∉ (No pertenece): Indica que un elemento no pertenece a un conjunto dado."
      ],
      "metadata": {
        "id": "GlJeYUM1aGK1"
      }
    },
    {
      "cell_type": "code",
      "source": [
        "# Definir un conjunto y un elemento\n",
        "conjunto = {1, 2, 3, 4, 5}\n",
        "elemento = 6\n",
        "\n",
        "# Verificar si el elemento no pertenece al conjunto\n",
        "no_pertenece_elemento = elemento not in conjunto\n",
        "\n",
        "# Crear un DataFrame para mostrar el resultado\n",
        "data = {'Conjunto': [conjunto], 'Elemento': [elemento], 'No Pertenece Elemento': [no_pertenece_elemento]}\n",
        "df = pd.DataFrame(data)\n",
        "\n",
        "# Mostrar el DataFrame\n",
        "print(df)"
      ],
      "metadata": {
        "colab": {
          "base_uri": "https://localhost:8080/"
        },
        "id": "8Mt1R175aHJm",
        "outputId": "369f27d1-0b44-4f78-a187-fa02f736ebeb"
      },
      "execution_count": 43,
      "outputs": [
        {
          "output_type": "stream",
          "name": "stdout",
          "text": [
            "          Conjunto  Elemento  No Pertenece Elemento\n",
            "0  {1, 2, 3, 4, 5}         6                   True\n"
          ]
        }
      ]
    },
    {
      "cell_type": "markdown",
      "source": [
        "∨ (Disyunción): Representa la operación lógica OR, que es verdadera si al menos uno de los términos es verdadero."
      ],
      "metadata": {
        "id": "vsUEfsjZanbw"
      }
    },
    {
      "cell_type": "code",
      "source": [
        "# Supongamos que tenemos dos valores lógicos\n",
        "valor1 = True\n",
        "valor2 = False\n",
        "\n",
        "# Realizar la operación lógica OR\n",
        "resultado = valor1 or valor2\n",
        "\n",
        "# Mostrar el resultado\n",
        "print(\"Resultado de la operación OR:\", resultado)"
      ],
      "metadata": {
        "colab": {
          "base_uri": "https://localhost:8080/"
        },
        "id": "GdFmZcHFaoUW",
        "outputId": "5c3eccc0-06ed-42f5-d705-09061a19325d"
      },
      "execution_count": 44,
      "outputs": [
        {
          "output_type": "stream",
          "name": "stdout",
          "text": [
            "Resultado de la operación OR: True\n"
          ]
        }
      ]
    },
    {
      "cell_type": "markdown",
      "source": [
        "∧ (Conjunción): Representa la operación lógica AND, que es verdadera solo si ambos términos son verdaderos."
      ],
      "metadata": {
        "id": "vSm4OK3Pa_m-"
      }
    },
    {
      "cell_type": "code",
      "source": [
        "# Supongamos que tenemos dos valores lógicos\n",
        "valor1 = True\n",
        "valor2 = False\n",
        "\n",
        "# Realizar la operación lógica AND\n",
        "resultado = valor1 and valor2\n",
        "\n",
        "# Mostrar el resultado\n",
        "print(\"Resultado de la operación AND:\", resultado)\n"
      ],
      "metadata": {
        "colab": {
          "base_uri": "https://localhost:8080/"
        },
        "id": "_qZxVVj6bAgF",
        "outputId": "a0dcd749-8030-47a8-84e7-026a7bbdacf2"
      },
      "execution_count": 45,
      "outputs": [
        {
          "output_type": "stream",
          "name": "stdout",
          "text": [
            "Resultado de la operación AND: False\n"
          ]
        }
      ]
    },
    {
      "cell_type": "markdown",
      "source": [
        "⇔ (Doble implicación): Representa una doble implicación lógica, donde ambas direcciones de la implicación son verdaderas."
      ],
      "metadata": {
        "id": "NY7X0NK8bVAv"
      }
    },
    {
      "cell_type": "code",
      "source": [
        "# Supongamos que tenemos dos afirmaciones lógicas p y q\n",
        "p = True\n",
        "q = False\n",
        "\n",
        "# Verificar si la doble implicación p ⇔ q es verdadera\n",
        "doble_implicacion = (p and q) or (not p and not q)\n",
        "\n",
        "# Mostrar el resultado\n",
        "if doble_implicacion:\n",
        "    print(\"La doble implicación p ⇔ q es verdadera.\")\n",
        "else:\n",
        "    print(\"La doble implicación p ⇔ q es falsa.\")\n"
      ],
      "metadata": {
        "colab": {
          "base_uri": "https://localhost:8080/"
        },
        "id": "J_QaY0qcbV91",
        "outputId": "1b0f4b44-cc6d-4d15-bedd-79d31c915733"
      },
      "execution_count": 47,
      "outputs": [
        {
          "output_type": "stream",
          "name": "stdout",
          "text": [
            "La doble implicación p ⇔ q es falsa.\n"
          ]
        }
      ]
    },
    {
      "cell_type": "markdown",
      "source": [
        "≅ (Congruente): Indica que dos figuras geométricas son congruentes, lo que significa que tienen la misma forma y tamaño."
      ],
      "metadata": {
        "id": "OCU3Aw5JblhV"
      }
    },
    {
      "cell_type": "code",
      "source": [
        "# Definir una figura geométrica utilizando coordenadas\n",
        "figura1_coords = np.array([[0, 0], [1, 0], [0.5, 1], [0, 0]])\n",
        "\n",
        "# Definir una transformación de congruencia (traslación y rotación)\n",
        "translacion_x = 1\n",
        "translacion_y = 1\n",
        "angulo_rotacion = np.pi / 4\n",
        "transformacion_matrix = np.array([[np.cos(angulo_rotacion), -np.sin(angulo_rotacion), translacion_x],\n",
        "                                  [np.sin(angulo_rotacion), np.cos(angulo_rotacion), translacion_y],\n",
        "                                  [0, 0, 1]])\n",
        "\n",
        "# Aplicar la transformación a la figura 1\n",
        "figura2_coords = np.dot(transformacion_matrix, np.vstack((figura1_coords.T, np.ones(figura1_coords.shape[0])))).T[:, :2]\n",
        "\n",
        "# Crear subplots y graficar ambas figuras\n",
        "fig, axs = plt.subplots(1, 2, figsize=(8, 4))\n",
        "axs[0].plot(*figura1_coords.T, marker='o')\n",
        "axs[0].set_title('Figura 1')\n",
        "\n",
        "axs[1].plot(*figura2_coords.T, marker='o')\n",
        "axs[1].set_title('Figura 2')\n",
        "\n",
        "plt.tight_layout()\n",
        "plt.show()\n",
        "\n",
        "# Verificar congruencia comparando longitudes de lados\n",
        "lados_figura1 = [np.linalg.norm(figura1_coords[i] - figura1_coords[i - 1]) for i in range(len(figura1_coords))]\n",
        "lados_figura2 = [np.linalg.norm(figura2_coords[i] - figura2_coords[i - 1]) for i in range(len(figura2_coords))]\n",
        "\n",
        "congruente = np.allclose(lados_figura1, lados_figura2)\n",
        "\n",
        "# Mostrar el resultado\n",
        "if congruente:\n",
        "    print(\"Las figuras son congruentes.\")\n",
        "else:\n",
        "    print(\"Las figuras no son congruentes.\")"
      ],
      "metadata": {
        "colab": {
          "base_uri": "https://localhost:8080/",
          "height": 424
        },
        "id": "PU_4NniObmbd",
        "outputId": "14a762bd-de5c-472d-8913-737cef5d3e4f"
      },
      "execution_count": 48,
      "outputs": [
        {
          "output_type": "display_data",
          "data": {
            "text/plain": [
              "<Figure size 800x400 with 2 Axes>"
            ],
            "image/png": "[encoded data removed]"
          },
          "metadata": {}
        },
        {
          "output_type": "stream",
          "name": "stdout",
          "text": [
            "Las figuras son congruentes.\n"
          ]
        }
      ]
    },
    {
      "cell_type": "markdown",
      "source": [
        "∾ (Similar a): Indica que dos figuras son similares, lo que significa que tienen la misma forma pero no necesariamente el mismo tamaño."
      ],
      "metadata": {
        "id": "iyiy29QEb6wg"
      }
    },
    {
      "cell_type": "code",
      "source": [
        "# Definir una figura geométrica utilizando coordenadas\n",
        "figura1_coords = np.array([[0, 0], [1, 0], [0, 1], [0, 0]])\n",
        "\n",
        "# Definir una transformación de similitud (escalamiento y rotación)\n",
        "factor_escala = 2\n",
        "angulo_rotacion = np.pi / 4\n",
        "transformacion_matrix = np.array([[factor_escala * np.cos(angulo_rotacion), -factor_escala * np.sin(angulo_rotacion), 0],\n",
        "                                  [factor_escala * np.sin(angulo_rotacion), factor_escala * np.cos(angulo_rotacion), 0],\n",
        "                                  [0, 0, 1]])\n",
        "\n",
        "# Aplicar la transformación a la figura 1\n",
        "figura2_coords = np.dot(transformacion_matrix, np.vstack((figura1_coords.T, np.ones(figura1_coords.shape[0])))).T[:, :2]\n",
        "\n",
        "# Crear subplots y graficar ambas figuras\n",
        "fig, axs = plt.subplots(1, 2, figsize=(8, 4))\n",
        "axs[0].plot(*figura1_coords.T, marker='o')\n",
        "axs[0].set_title('Figura 1')\n",
        "\n",
        "axs[1].plot(*figura2_coords.T, marker='o')\n",
        "axs[1].set_title('Figura 2 (Similar a Figura 1)')\n",
        "\n",
        "plt.tight_layout()\n",
        "plt.show()\n",
        "\n",
        "# Verificar similitud comparando ángulos\n",
        "angulos_figura1 = [np.arctan2(figura1_coords[i][1], figura1_coords[i][0]) for i in range(len(figura1_coords))]\n",
        "angulos_figura2 = [np.arctan2(figura2_coords[i][1], figura2_coords[i][0]) for i in range(len(figura2_coords))]\n",
        "\n",
        "similar = np.allclose(angulos_figura1, angulos_figura2, atol=1e-6)\n",
        "\n",
        "# Mostrar el resultado\n",
        "if similar:\n",
        "    print(\"Las figuras son similares.\")\n",
        "else:\n",
        "    print(\"Las figuras no son similares.\")"
      ],
      "metadata": {
        "colab": {
          "base_uri": "https://localhost:8080/",
          "height": 424
        },
        "id": "8EsKLWbzb7qV",
        "outputId": "e1f5f3b2-fd8b-4328-c98f-2292c8555c77"
      },
      "execution_count": 49,
      "outputs": [
        {
          "output_type": "display_data",
          "data": {
            "text/plain": [
              "<Figure size 800x400 with 2 Axes>"
            ],
            "image/png": "[encoded data removed]"
          },
          "metadata": {}
        },
        {
          "output_type": "stream",
          "name": "stdout",
          "text": [
            "Las figuras no son similares.\n"
          ]
        }
      ]
    },
    {
      "cell_type": "markdown",
      "source": [
        "∞ (Punto de acumulación): En análisis matemático, representa un punto en el que una secuencia o conjunto se acumula o se acerca infinitamente cerca."
      ],
      "metadata": {
        "id": "Mn5MqbNWcH2l"
      }
    },
    {
      "cell_type": "code",
      "source": [
        "# Definir una secuencia\n",
        "n = sp.symbols('n')\n",
        "secuencia = 1/n\n",
        "\n",
        "# Calcular los primeros términos de la secuencia\n",
        "primeros_terminos = [secuencia.subs(n, i) for i in range(1, 11)]\n",
        "\n",
        "# Mostrar los primeros términos de la secuencia\n",
        "print(\"Primeros términos de la secuencia:\", primeros_terminos)\n",
        "\n",
        "# Calcular los límites de los términos de la secuencia cuando n tiende a infinito\n",
        "limites = [sp.limit(secuencia, n, sp.oo)]\n",
        "\n",
        "# Mostrar los límites de la secuencia\n",
        "print(\"Límites de la secuencia:\", limites)"
      ],
      "metadata": {
        "colab": {
          "base_uri": "https://localhost:8080/"
        },
        "id": "eTy5flbvcIqt",
        "outputId": "11c563ec-2cfd-4875-ee11-29d77a3a086b"
      },
      "execution_count": 50,
      "outputs": [
        {
          "output_type": "stream",
          "name": "stdout",
          "text": [
            "Primeros términos de la secuencia: [1, 1/2, 1/3, 1/4, 1/5, 1/6, 1/7, 1/8, 1/9, 1/10]\n",
            "Límites de la secuencia: [0]\n"
          ]
        }
      ]
    },
    {
      "cell_type": "markdown",
      "source": [
        "∨ (Disyunción inclusiva): Representa la operación lógica OR, que es verdadera si al menos uno de los términos es verdadero. Se utiliza en lógica proposicional y matemática para expresar alternativas."
      ],
      "metadata": {
        "id": "yfKYuI9ucTVt"
      }
    },
    {
      "cell_type": "code",
      "source": [
        "# Supongamos que tenemos dos valores lógicos\n",
        "valor1 = True\n",
        "valor2 = False\n",
        "\n",
        "# Realizar la operación lógica OR\n",
        "resultado = valor1 or valor2\n",
        "\n",
        "# Mostrar el resultado\n",
        "if resultado:\n",
        "    print(\"La operación OR es verdadera.\")\n",
        "else:\n",
        "    print(\"La operación OR es falsa.\")\n"
      ],
      "metadata": {
        "colab": {
          "base_uri": "https://localhost:8080/"
        },
        "id": "35gDQPCfcUaV",
        "outputId": "816d6b08-2f61-4b06-ae0f-4e97e8d230ce"
      },
      "execution_count": 51,
      "outputs": [
        {
          "output_type": "stream",
          "name": "stdout",
          "text": [
            "La operación OR es verdadera.\n"
          ]
        }
      ]
    }
  ]
}